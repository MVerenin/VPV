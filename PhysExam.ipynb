{
 "cells": [
  {
   "cell_type": "code",
   "execution_count": 5,
   "metadata": {},
   "outputs": [
    {
     "name": "stdout",
     "output_type": "stream",
     "text": [
      "C:\\Users\\Максим.DESKTOP-N5OPJQH\\Desktop\\ВПВ\\основные_данные\\bg 10ms.txt\n",
      "C:\\Users\\Максим.DESKTOP-N5OPJQH\\Desktop\\ВПВ\\основные_данные\\dt 1.9 1.5 3.2 3.2 10ms.txt\n",
      "C:\\Users\\Максим.DESKTOP-N5OPJQH\\Desktop\\ВПВ\\основные_данные\\dt 2.0 1.5 3.4 3.4 10ms.txt\n"
     ]
    },
    {
     "name": "stderr",
     "output_type": "stream",
     "text": [
      "<ipython-input-5-6cfff0bbe497>:29: RuntimeWarning: divide by zero encountered in double_scalars\n",
      "  Y.append(m.log(abs((R_tmp1[i])/(R_tmp2[i]))))\n"
     ]
    },
    {
     "data": {
      "image/png": "[encoded data removed]",
      "text/plain": [
       "<Figure size 432x288 with 1 Axes>"
      ]
     },
     "metadata": {
      "needs_background": "light"
     },
     "output_type": "display_data"
    },
    {
     "name": "stdout",
     "output_type": "stream",
     "text": [
      "-1.0889210748516161e-16 8.807254213249593e-20\n"
     ]
    }
   ],
   "source": [
    "import pandas as pd\n",
    "import numpy as np\n",
    "import matplotlib.pyplot as plt\n",
    "import math as m\n",
    "\n",
    "P1 = float(input())\n",
    "P2 = float(input())\n",
    "\n",
    "file3 = pd.read_csv(input(), sep = \" \", names = ['l3', 'r3'])\n",
    "l3 = list(file3.l3)\n",
    "r3 = list(file3.r3)\n",
    "lambda_wave3 = np.array(list(map(float,l3)))\n",
    "R_tmp3 = np.array(list(map(float,r3)))\n",
    "\n",
    "\n",
    "file1 = pd.read_csv(input(), sep = \" \", names = ['l1', 'r1'])\n",
    "l1 = list(file1.l1)\n",
    "r1 = list(file1.r1)\n",
    "lambda_wave1 = np.array(list(map(float,l1)))\n",
    "R_tmp1 = np.array(list(map(float,r1))) - R_tmp3\n",
    "\n",
    "    \n",
    "file2 = pd.read_csv(input(), sep = \" \", names = ['l2', 'r2'])\n",
    "l2 = list(file2.l2)\n",
    "r2 = list(file2.r2)\n",
    "lambda_wave2 = np.array(list(map(float,l2)))\n",
    "R_tmp2 = np.array(list(map(float,r2))) - R_tmp3\n",
    "\n",
    "\n",
    "Y = []\n",
    "for i in range(len(l1)):\n",
    "    Y.append(m.log(abs((R_tmp1[i])/(R_tmp2[i]))))\n",
    "w = []\n",
    "for el in lambda_wave1:\n",
    "    w.append(2*m.pi*3e8/(el*1e-9))\n",
    "    \n",
    "plt.scatter(w[700:1200], Y[700:1200], s = 1, color = \"Blue\")\n",
    "plt.title('Отношение логарифмов')\n",
    "plt.xlabel('Циклическая частота')\n",
    "plt.grid(which='major')\n",
    "plt.show()\n",
    "\n",
    "n = 1100-800\n",
    "x = np.array(w[800:1100])\n",
    "y = np.array(Y[800:1100])\n",
    "avx=np.average(x)\n",
    "avy=np.average(y)\n",
    "avx_avx=(np.average(x))**2\n",
    "avy_avy=(np.average(y))**2\n",
    "av_x2=np.average(x*x)\n",
    "av_y2=np.average(y*y)\n",
    "avx_avy = (np.average(x))*(np.average(y))\n",
    "av_xy = np.average(x*y)\n",
    "\n",
    "b=(av_xy-avx*avy)/(av_x2-avx_avx)\n",
    "a=avy-b*avx\n",
    "s_b=1/m.sqrt(n)*m.sqrt((av_y2-avy_avy)/(av_x2-avx_avx)-b**2)\n",
    "s_a=s_b*m.sqrt(av_x2-avx_avx)\n",
    "k = av_xy/av_x2\n",
    "s_k = 1/m.sqrt(n)*m.sqrt((av_y2)/(av_x2)-k**2)\n",
    "#print(b, s_b)\n",
    "#print(a, s_a)\n",
    "print('k =',k ,' +- ', s_k)\n",
    "print('tipaconst = ', k/(1/P1**0.25-1/P2**0.25))\n",
    "\n",
    "# y = a + bx\n",
    "\n",
    "#C:\\Users\\Максим.DESKTOP-N5OPJQH\\Desktop\\ВПВ\\основные_данные\\bg 10ms.txt\n",
    "#C:\\Users\\Максим.DESKTOP-N5OPJQH\\Desktop\\ВПВ\\основные_данные\\dt 1.9 1.5 3.2 3.2 10ms.txt\n",
    "#C:\\Users\\Максим.DESKTOP-N5OPJQH\\Desktop\\ВПВ\\основные_данные\\dt 2.0 1.5 3.4 3.4 10ms.txt\n"
   ]
  }
 ],
 "metadata": {
  "kernelspec": {
   "display_name": "Python 3",
   "language": "python",
   "name": "python3"
  },
  "language_info": {
   "codemirror_mode": {
    "name": "ipython",
    "version": 3
   },
   "file_extension": ".py",
   "mimetype": "text/x-python",
   "name": "python",
   "nbconvert_exporter": "python",
   "pygments_lexer": "ipython3",
   "version": "3.8.5"
  }
 },
 "nbformat": 4,
 "nbformat_minor": 4
}
